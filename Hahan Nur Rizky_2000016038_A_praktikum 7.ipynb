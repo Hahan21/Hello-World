{
 "metadata": {
  "language_info": {
   "codemirror_mode": {
    "name": "ipython",
    "version": 3
   },
   "file_extension": ".py",
   "mimetype": "text/x-python",
   "name": "python",
   "nbconvert_exporter": "python",
   "pygments_lexer": "ipython3",
   "version": "3.8.6-final"
  },
  "orig_nbformat": 2,
  "kernelspec": {
   "name": "python3",
   "display_name": "Python 3.8.6 32-bit",
   "metadata": {
    "interpreter": {
     "hash": "e9b1beb029b17a1b59edc7a04ab068de3a2f8ef40127aab24ededee79634cc7f"
    }
   }
  }
 },
 "nbformat": 4,
 "nbformat_minor": 2,
 "cells": [
  {
   "source": [
    "Nama : Hahan Nur Rizky\n",
    "Nim  : 2000016038\n",
    "kelas: A"
   ],
   "cell_type": "markdown",
   "metadata": {}
  },
  {
   "cell_type": "code",
   "execution_count": 10,
   "metadata": {},
   "outputs": [
    {
     "output_type": "stream",
     "name": "stdout",
     "text": [
      "2  is prime\n3  is prime\n5  is prime\n7  is prime\n11  is prime\n13  is prime\n17  is prime\n19  is prime\n23  is prime\n29  is prime\n31  is prime\n37  is prime\n41  is prime\n43  is prime\n47  is prime\n53  is prime\n59  is prime\n61  is prime\n67  is prime\n71  is prime\n73  is prime\n79  is prime\n83  is prime\n89  is prime\n97  is prime\n"
     ]
    }
   ],
   "source": [
    "#PERCOBAAN 1\n",
    "i = 2\n",
    "while(i < 100):\n",
    "    j = 2\n",
    "    while(j <= (i/j)):\n",
    "        if not(i%j): break\n",
    "        j = j + 1\n",
    "    if (j > i/j) :\n",
    "        print(i, \" is prime\")\n",
    "    i = i + 1"
   ]
  },
  {
   "cell_type": "code",
   "execution_count": 9,
   "metadata": {},
   "outputs": [
    {
     "output_type": "stream",
     "name": "stdout",
     "text": [
      "judul spiderman terdapat 9 huruf\njudul avenger terdapat 7 huruf\njudul Capten America terdapat 14 huruf\njudul Upin Ipin terdapat 9 huruf\njudul si Unyil terdapat 8 huruf\njudul Si Bolang terdapat 9 huruf\njudul frozen terdapat 6 huruf\njudul Dora the explorer terdapat 17 huruf\n"
     ]
    }
   ],
   "source": [
    "#PERCOBAAN 2\n",
    "filmku=[[ 'spiderman', 'avenger', 'Capten America'],\n",
    "       ['Upin Ipin', 'si Unyil', 'Si Bolang'],\n",
    "       ['frozen', 'Dora the explorer']]\n",
    "\n",
    "for sublist in filmku:\n",
    "    for judul in sublist:\n",
    "        jml_karakter=len(judul)\n",
    "        print(\"judul \" + judul + \" terdapat \" + str(jml_karakter) + \" huruf\")"
   ]
  },
  {
   "cell_type": "code",
   "execution_count": 8,
   "metadata": {},
   "outputs": [
    {
     "output_type": "stream",
     "name": "stdout",
     "text": [
      "Urutan : \n0\n0\n0\n0\n0\n1\n2\n3\n6\n8\n"
     ]
    }
   ],
   "source": [
    "#TUGAS\n",
    "import sys\n",
    "A = [2, 0, 0, 0, 0, 1, 6, 0, 3, 8]\n",
    "for i in range(len(A)):\n",
    "    NIM = i\n",
    "    for j in range(i+1, len(A)) :\n",
    "        if A[NIM] > A[j]:\n",
    "            NIM = j\n",
    "    A[i], A[NIM] = A[NIM], A[i]\n",
    "print (\"Urutan : \" )\n",
    "for i in range(len(A)):\n",
    "    print(\"%d\" %A[i])"
   ]
  },
  {
   "cell_type": "code",
   "execution_count": null,
   "metadata": {},
   "outputs": [],
   "source": []
  }
 ]
}